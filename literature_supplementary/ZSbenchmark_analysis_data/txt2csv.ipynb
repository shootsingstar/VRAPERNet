{
 "cells": [
  {
   "cell_type": "code",
   "execution_count": 5,
   "metadata": {},
   "outputs": [
    {
     "name": "stdout",
     "output_type": "stream",
     "text": [
      "finished writing to ../figures/table_all_alleles_srcc_MixMHCpred_transposed.csv\n"
     ]
    }
   ],
   "source": [
    "import pandas as pd\n",
    "\n",
    "file_path = 'table_all_alleles_srcc_MixMHCpred.txt'\n",
    "df = pd.read_csv(file_path, sep='\\t')\n",
    "\n",
    "df_transposed = df.transpose()\n",
    "\n",
    "output_path = '../figures/table_all_alleles_srcc_MixMHCpred_transposed.csv'\n",
    "df_transposed.to_csv(output_path, header=False)\n",
    "\n",
    "print(f\"finished writing to {output_path}\")"
   ]
  },
  {
   "cell_type": "code",
   "execution_count": 6,
   "metadata": {},
   "outputs": [
    {
     "name": "stdout",
     "output_type": "stream",
     "text": [
      "finished writing to ../figures/table_all_alleles_srcc_transposed.csv\n"
     ]
    }
   ],
   "source": [
    "import pandas as pd\n",
    "\n",
    "file_path = 'table_all_alleles_srcc.txt'\n",
    "df = pd.read_csv(file_path, sep='\\t')\n",
    "\n",
    "df_transposed = df.transpose()\n",
    "\n",
    "output_path = '../figures/table_all_alleles_srcc_transposed.csv'\n",
    "df_transposed.to_csv(output_path, header=False)\n",
    "\n",
    "print(f\"finished writing to {output_path}\")"
   ]
  },
  {
   "cell_type": "code",
   "execution_count": 9,
   "metadata": {},
   "outputs": [
    {
     "name": "stdout",
     "output_type": "stream",
     "text": [
      "finished writing to ../figures/mhcflurry_allele_rsquared2.csv\n"
     ]
    }
   ],
   "source": [
    "import pandas as pd\n",
    "\n",
    "file_path = 'mhcflurry_allele_rsquared2.txt'\n",
    "df = pd.read_csv(file_path, sep=',')\n",
    "\n",
    "output_path = '../figures/mhcflurry_allele_rsquared2.csv'\n",
    "df.to_csv(output_path, header=False)\n",
    "\n",
    "print(f\"finished writing to {output_path}\")"
   ]
  }
 ],
 "metadata": {
  "kernelspec": {
   "display_name": "molmap",
   "language": "python",
   "name": "python3"
  },
  "language_info": {
   "codemirror_mode": {
    "name": "ipython",
    "version": 3
   },
   "file_extension": ".py",
   "mimetype": "text/x-python",
   "name": "python",
   "nbconvert_exporter": "python",
   "pygments_lexer": "ipython3",
   "version": "3.7.12"
  }
 },
 "nbformat": 4,
 "nbformat_minor": 2
}
