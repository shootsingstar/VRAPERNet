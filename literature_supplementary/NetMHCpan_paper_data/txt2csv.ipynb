{
 "cells": [
  {
   "cell_type": "code",
   "execution_count": 1,
   "metadata": {},
   "outputs": [
    {
     "data": {
      "text/plain": [
       "(       allele      PCC\n",
       " 0  HLA-A01:01  0.82188\n",
       " 1  HLA-A02:01  0.86276\n",
       " 2  HLA-A02:02  0.83911\n",
       " 3  HLA-A02:03  0.86937\n",
       " 4  HLA-A02:05  0.87755,\n",
       " '../figures/NetMHCpan_Cross_Validation_allele.csv')"
      ]
     },
     "execution_count": 1,
     "metadata": {},
     "output_type": "execute_result"
    }
   ],
   "source": [
    "# Read the content from the file\n",
    "file_path = 'Supplementary_Table_3.txt'\n",
    "with open(file_path, 'r') as file:\n",
    "    data = file.readlines()\n",
    "\n",
    "# Process the data to keep only the first and last element of each 7-line group\n",
    "processed_data = []\n",
    "for i in range(0, len(data), 7):\n",
    "    allele = data[i].strip()\n",
    "    pcc = data[i + 6].strip()\n",
    "    processed_data.append([allele, pcc])\n",
    "\n",
    "# Convert to a DataFrame and save as a CSV file\n",
    "import pandas as pd\n",
    "df = pd.DataFrame(processed_data, columns=[\"allele\", \"PCC\"])\n",
    "output_path = '../figures/NetMHCpan_Cross_Validation_allele.csv'\n",
    "df.to_csv(output_path, index=False)\n",
    "\n",
    "df.head(), output_path\n"
   ]
  }
 ],
 "metadata": {
  "kernelspec": {
   "display_name": "molmap",
   "language": "python",
   "name": "python3"
  },
  "language_info": {
   "codemirror_mode": {
    "name": "ipython",
    "version": 3
   },
   "file_extension": ".py",
   "mimetype": "text/x-python",
   "name": "python",
   "nbconvert_exporter": "python",
   "pygments_lexer": "ipython3",
   "version": "3.7.12"
  }
 },
 "nbformat": 4,
 "nbformat_minor": 2
}
